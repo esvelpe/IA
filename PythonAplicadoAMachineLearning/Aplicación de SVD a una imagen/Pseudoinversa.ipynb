{
 "cells": [
  {
   "cell_type": "code",
   "execution_count": 1,
   "id": "5e2fa803",
   "metadata": {},
   "outputs": [],
   "source": [
    "import numpy as np\n",
    "np.set_printoptions(suppress=True)"
   ]
  },
  {
   "cell_type": "markdown",
   "id": "67923ae9",
   "metadata": {},
   "source": [
    "La matriz pseudoinversa se va a definir como: \n",
    "\n",
    "$$\n",
    "A_{pse}=V D_{pse} U^{T}\n",
    "$$"
   ]
  },
  {
   "cell_type": "code",
   "execution_count": 2,
   "id": "74bc858d",
   "metadata": {},
   "outputs": [
    {
     "name": "stdout",
     "output_type": "stream",
     "text": [
      "[[ 2  3]\n",
      " [ 5  7]\n",
      " [11 13]]\n"
     ]
    }
   ],
   "source": [
    "A=np.array([[2,3],[5,7],[11,13]])\n",
    "print(A)"
   ]
  },
  {
   "cell_type": "code",
   "execution_count": 3,
   "id": "f83a89c6",
   "metadata": {},
   "outputs": [
    {
     "name": "stdout",
     "output_type": "stream",
     "text": [
      "U\n",
      "[[-0.18499741 -0.47276624 -0.86154979]\n",
      " [-0.44249308 -0.74271297  0.50257071]\n",
      " [-0.87748267  0.4742041  -0.07179582]]\n",
      "D\n",
      "[19.40321383  0.71783924]\n",
      "V\n",
      "[[-0.63055377 -0.77614557]\n",
      " [ 0.77614557 -0.63055377]]\n"
     ]
    }
   ],
   "source": [
    "U, D, V= np.linalg.svd(A)\n",
    "print(\"U\")\n",
    "print(U)\n",
    "print(\"D\")\n",
    "print(D)\n",
    "print(\"V\")\n",
    "print(V)"
   ]
  },
  {
   "cell_type": "code",
   "execution_count": 4,
   "id": "5832f788",
   "metadata": {},
   "outputs": [
    {
     "name": "stdout",
     "output_type": "stream",
     "text": [
      "[[0. 0. 0.]\n",
      " [0. 0. 0.]]\n"
     ]
    }
   ],
   "source": [
    "D_pse=np.zeros((A.shape[0],A.shape[1])).T\n",
    "print(D_pse)"
   ]
  },
  {
   "cell_type": "code",
   "execution_count": 5,
   "id": "1b1bf0d5",
   "metadata": {},
   "outputs": [
    {
     "name": "stdout",
     "output_type": "stream",
     "text": [
      "Valores a reemplazar en D_pse\n",
      "[[0. 0.]\n",
      " [0. 0.]]\n"
     ]
    }
   ],
   "source": [
    "print(\"Valores a reemplazar en D_pse\")\n",
    "print(D_pse[:D.shape[0],:D.shape[0]])"
   ]
  },
  {
   "cell_type": "code",
   "execution_count": 6,
   "id": "0440aedb",
   "metadata": {},
   "outputs": [
    {
     "name": "stdout",
     "output_type": "stream",
     "text": [
      "Valores que pondremos en D_pse\n",
      "[[0.05153785 0.        ]\n",
      " [0.         1.39306957]]\n"
     ]
    }
   ],
   "source": [
    "print(\"Valores que pondremos en D_pse\")\n",
    "print(np.linalg.inv(np.diag(D)))"
   ]
  },
  {
   "cell_type": "code",
   "execution_count": 7,
   "id": "03c8cb83",
   "metadata": {},
   "outputs": [
    {
     "name": "stdout",
     "output_type": "stream",
     "text": [
      "D_pse\n",
      "[[0.05153785 0.         0.        ]\n",
      " [0.         1.39306957 0.        ]]\n"
     ]
    }
   ],
   "source": [
    "print(\"D_pse\")\n",
    "D_pse[:D.shape[0],:D.shape[0]] = np.linalg.inv(np.diag(D))\n",
    "print(D_pse)"
   ]
  },
  {
   "cell_type": "code",
   "execution_count": 8,
   "id": "40c65ee5",
   "metadata": {},
   "outputs": [
    {
     "name": "stdout",
     "output_type": "stream",
     "text": [
      "[[-0.50515464 -0.78865979  0.54123711]\n",
      " [ 0.42268041  0.67010309 -0.3814433 ]]\n"
     ]
    }
   ],
   "source": [
    "A_pse=V.T.dot(D_pse).dot(U.T)\n",
    "print(A_pse)"
   ]
  },
  {
   "cell_type": "code",
   "execution_count": 9,
   "id": "9f78bbf9",
   "metadata": {},
   "outputs": [],
   "source": [
    "A_pse_calc=np.linalg.pinv(A)"
   ]
  },
  {
   "cell_type": "code",
   "execution_count": 10,
   "id": "ee4ca163",
   "metadata": {},
   "outputs": [
    {
     "name": "stdout",
     "output_type": "stream",
     "text": [
      "[[-0.50515464 -0.78865979  0.54123711]\n",
      " [ 0.42268041  0.67010309 -0.3814433 ]]\n"
     ]
    }
   ],
   "source": [
    "print(A_pse_calc)"
   ]
  },
  {
   "cell_type": "code",
   "execution_count": 11,
   "id": "8a78c9d4",
   "metadata": {},
   "outputs": [
    {
     "name": "stdout",
     "output_type": "stream",
     "text": [
      "[[ 1. -0.]\n",
      " [ 0.  1.]]\n"
     ]
    }
   ],
   "source": [
    "print(A_pse.dot(A))"
   ]
  },
  {
   "cell_type": "code",
   "execution_count": 13,
   "id": "1cbc6b67",
   "metadata": {},
   "outputs": [],
   "source": [
    "np.set_printoptions(suppress=False)"
   ]
  },
  {
   "cell_type": "code",
   "execution_count": 14,
   "id": "240a4233",
   "metadata": {},
   "outputs": [
    {
     "name": "stdout",
     "output_type": "stream",
     "text": [
      "[[ 1.00000000e+00 -1.77635684e-15]\n",
      " [ 4.44089210e-16  1.00000000e+00]]\n"
     ]
    }
   ],
   "source": [
    "print(A_pse.dot(A))"
   ]
  },
  {
   "cell_type": "code",
   "execution_count": 15,
   "id": "3f6d35b2",
   "metadata": {},
   "outputs": [
    {
     "name": "stdout",
     "output_type": "stream",
     "text": [
      "[[ 0.25773196  0.43298969 -0.06185567]\n",
      " [ 0.43298969  0.74742268  0.03608247]\n",
      " [-0.06185567  0.03608247  0.99484536]]\n"
     ]
    }
   ],
   "source": [
    "print(A.dot(A_pse))"
   ]
  },
  {
   "cell_type": "markdown",
   "id": "fb6d2bf1",
   "metadata": {},
   "source": [
    "## La pseudoinversa NO es conmutativa"
   ]
  },
  {
   "cell_type": "code",
   "execution_count": 17,
   "id": "4fc0d25c",
   "metadata": {},
   "outputs": [
    {
     "name": "stdout",
     "output_type": "stream",
     "text": [
      "[[-0.50515464 -0.78865979  0.54123711]\n",
      " [ 0.42268041  0.67010309 -0.3814433 ]]\n"
     ]
    }
   ],
   "source": [
    "A_pse_2=np.linalg.inv(A.T.dot(A)).dot(A.T)\n",
    "print(A_pse_2)"
   ]
  },
  {
   "cell_type": "code",
   "execution_count": null,
   "id": "fbcfbf4a",
   "metadata": {},
   "outputs": [],
   "source": []
  }
 ],
 "metadata": {
  "kernelspec": {
   "display_name": "Python 3 (ipykernel)",
   "language": "python",
   "name": "python3"
  },
  "language_info": {
   "codemirror_mode": {
    "name": "ipython",
    "version": 3
   },
   "file_extension": ".py",
   "mimetype": "text/x-python",
   "name": "python",
   "nbconvert_exporter": "python",
   "pygments_lexer": "ipython3",
   "version": "3.8.10"
  }
 },
 "nbformat": 4,
 "nbformat_minor": 5
}
